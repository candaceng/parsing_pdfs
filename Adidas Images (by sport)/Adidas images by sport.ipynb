{
 "cells": [
  {
   "cell_type": "markdown",
   "metadata": {},
   "source": [
    "# Extracting Images from Adidas PDF \n",
    "*Version*: matches manuf_models with item_id **and** sport_id <br/>\n",
    "\n",
    "**Libraries used:**\n",
    "- **pdfplumber**: opens pdfs and allows them to be parsed page by page\n",
    "- **re**: finds patterns in text to know where to find specific data (e.g. dates, model numbers, etc.)\n",
    "- **glob**: allows for iterating through files ending in .pdf\n",
    "- **csv**: used here for reading matching manuf_model to item_ids\n",
    "- **fitz**: extracting images\n",
    "- **os**: for getting current directory and creating a new folder containing images"
   ]
  },
  {
   "cell_type": "code",
   "execution_count": 1,
   "metadata": {},
   "outputs": [],
   "source": [
    "import pdfplumber\n",
    "import re\n",
    "import glob\n",
    "import csv\n",
    "import fitz\n",
    "import os"
   ]
  },
  {
   "cell_type": "code",
   "execution_count": 2,
   "metadata": {},
   "outputs": [],
   "source": [
    "manuf_model_re = re.compile(r'(\\w+)\\D+\\d+\\D+\\d+\\D+\\d+\\D+\\d+')"
   ]
  },
  {
   "cell_type": "markdown",
   "metadata": {},
   "source": [
    "**Extracting model numbers**\n",
    "\n",
    "The function below goes through the PDF and returns a list of all model numbers found. \n",
    "\n",
    "*Note*: Please make sure your PDF files are in the folder called *put_pdfs_here*"
   ]
  },
  {
   "cell_type": "code",
   "execution_count": 3,
   "metadata": {},
   "outputs": [],
   "source": [
    "def extract_model_nums():\n",
    "    \"\"\"\n",
    "    Returns: a list of all model numbers in an Adidas PDF\n",
    "    Assumptions: your PDF's are in the folder called \"put_pdfs_here\"\n",
    "    \n",
    "    \"\"\"\n",
    "    model_nums = []\n",
    "    check_model_num = False\n",
    "\n",
    "    for file in glob.iglob(\"put_pdfs_here/*pdf\"):\n",
    "        with pdfplumber.open(file) as pdf:\n",
    "            pages = pdf.pages\n",
    "            for page in pdf.pages:\n",
    "                text = page.extract_text()\n",
    "                for line in text.split(\"\\n\"):\n",
    "\n",
    "                    if line.startswith('Style') or line.startswith('Qty'):\n",
    "                        check_model_num = True\n",
    "\n",
    "                    elif check_model_num:\n",
    "                        model_num = manuf_model_re.search(line)\n",
    "                        if model_num:\n",
    "                            model_nums.append(model_num.group(1))\n",
    "                        check_model_num = False\n",
    "                        \n",
    "    return model_nums      "
   ]
  },
  {
   "attachments": {
    "image.png": {
     "image/png": "[encoded data removed]"
    }
   },
   "cell_type": "markdown",
   "metadata": {},
   "source": [
    "**Matching item id**\n",
    "\n",
    "The function below takes calls extract_model_nums() to get the list of model numbers and matches them to the corresponding item_ids in the CSV file that contains all items for the org. \n",
    "\n",
    "*Note*: Please make sure the CSV file is named *all_items.csv* and contains the appropriate columns (refer to image below)\n",
    "![image.png](attachment:image.png)"
   ]
  },
  {
   "cell_type": "code",
   "execution_count": 18,
   "metadata": {},
   "outputs": [],
   "source": [
    "def get_item_ids(sport_id):\n",
    "    \"\"\"\n",
    "    Returns: a list of all item_ids corresponding to the model numbers, and a list of item_ids\n",
    "    \n",
    "    \"\"\"\n",
    "    item_ids = []\n",
    "    model_nums = extract_model_nums()\n",
    "    \n",
    "    with open('all_items.csv', 'r', encoding='utf-8-sig') as file:\n",
    "        reader = csv.reader(file)\n",
    "\n",
    "        for line in reader:\n",
    "            for model_num in model_nums:\n",
    "                if line[0] == sport_id and line[2] == model_num:\n",
    "                    print(\"yes\")\n",
    "                    item_ids.append(line[1])\n",
    "                 \n",
    "    return item_ids\n",
    "    "
   ]
  },
  {
   "cell_type": "markdown",
   "metadata": {},
   "source": [
    "**Image extraction process**\n",
    "\n",
    "The code below extracts all images from the PDF, names them accordingly by the item_ids, and places them in a folder. It also creates a csv file containing the queries you will need."
   ]
  },
  {
   "cell_type": "code",
   "execution_count": 19,
   "metadata": {},
   "outputs": [
    {
     "name": "stdout",
     "output_type": "stream",
     "text": [
      "Enter the sport_id: 3\n"
     ]
    },
    {
     "ename": "FileExistsError",
     "evalue": "[WinError 183] Cannot create a file when that file already exists: 'C:\\\\Users\\\\16479\\\\extract_pdf\\\\Adidas images\\\\3'",
     "output_type": "error",
     "traceback": [
      "\u001b[1;31m---------------------------------------------------------------------------\u001b[0m",
      "\u001b[1;31mFileExistsError\u001b[0m                           Traceback (most recent call last)",
      "\u001b[1;32m<ipython-input-19-348c8a979021>\u001b[0m in \u001b[0;36m<module>\u001b[1;34m\u001b[0m\n\u001b[0;32m     10\u001b[0m     \u001b[1;32mif\u001b[0m \u001b[1;32mnot\u001b[0m \u001b[0mos\u001b[0m\u001b[1;33m.\u001b[0m\u001b[0mpath\u001b[0m\u001b[1;33m.\u001b[0m\u001b[0mexists\u001b[0m\u001b[1;33m(\u001b[0m\u001b[1;34m'All Files'\u001b[0m\u001b[1;33m)\u001b[0m\u001b[1;33m:\u001b[0m\u001b[1;33m\u001b[0m\u001b[1;33m\u001b[0m\u001b[0m\n\u001b[0;32m     11\u001b[0m         \u001b[0mos\u001b[0m\u001b[1;33m.\u001b[0m\u001b[0mmkdir\u001b[0m\u001b[1;33m(\u001b[0m\u001b[0mall_path\u001b[0m\u001b[1;33m)\u001b[0m\u001b[1;33m\u001b[0m\u001b[1;33m\u001b[0m\u001b[0m\n\u001b[1;32m---> 12\u001b[1;33m     \u001b[0mos\u001b[0m\u001b[1;33m.\u001b[0m\u001b[0mmkdir\u001b[0m\u001b[1;33m(\u001b[0m\u001b[0msport_path\u001b[0m\u001b[1;33m)\u001b[0m\u001b[1;33m\u001b[0m\u001b[1;33m\u001b[0m\u001b[0m\n\u001b[0m\u001b[0;32m     13\u001b[0m \u001b[1;33m\u001b[0m\u001b[0m\n\u001b[0;32m     14\u001b[0m     \u001b[1;32mfor\u001b[0m \u001b[0mi\u001b[0m \u001b[1;32min\u001b[0m \u001b[0mrange\u001b[0m\u001b[1;33m(\u001b[0m\u001b[0mlen\u001b[0m\u001b[1;33m(\u001b[0m\u001b[0mdoc\u001b[0m\u001b[1;33m)\u001b[0m\u001b[1;33m)\u001b[0m\u001b[1;33m:\u001b[0m\u001b[1;33m\u001b[0m\u001b[1;33m\u001b[0m\u001b[0m\n",
      "\u001b[1;31mFileExistsError\u001b[0m: [WinError 183] Cannot create a file when that file already exists: 'C:\\\\Users\\\\16479\\\\extract_pdf\\\\Adidas images\\\\3'"
     ]
    }
   ],
   "source": [
    "sport_id = input(\"Enter the sport_id: \")\n",
    "# The actual image extraction\n",
    "image_num = -1\n",
    "for file in glob.iglob(\"put_pdfs_here/*pdf\"):\n",
    "    doc = fitz.open(file)\n",
    "    item_ids = get_item_ids(sport_id)\n",
    "    # new directories that will hold images\n",
    "    all_path = os.path.join(os.getcwd(), \"All Files\")\n",
    "    sport_path = os.path.join(os.getcwd(), sport_id)\n",
    "    if not os.path.exists('All Files'):\n",
    "        os.mkdir(all_path)\n",
    "    os.mkdir(sport_path)\n",
    "    \n",
    "    for i in range(len(doc)):\n",
    "        for img in doc.getPageImageList(i):\n",
    "            \n",
    "            # this step is needed because the first image is always the Adidas logo, which we don't want\n",
    "            if image_num == -1:\n",
    "                image_num += 1\n",
    "                continue\n",
    "                \n",
    "            xref = img[0]\n",
    "            pix = fitz.Pixmap(doc, xref)\n",
    "            \n",
    "            for j in range(len(item_ids[image_num])):\n",
    "                pix.writePNG(f\"{all_path}/I{item_ids[image_num]}.jpg\")\n",
    "                pix.writePNG(f\"{all_path}/I{item_ids[image_num]}Thumb.jpg\")\n",
    "                pix.writePNG(f\"{sport_path}/I{item_ids[image_num]}.jpg\")\n",
    "                pix.writePNG(f\"{sport_path}/I{item_ids[image_num]}Thumb.jpg\")\n",
    "            pix = None\n",
    "            \n",
    "            image_num += 1\n",
    "            \n",
    "# Outputting item_ids into a csv to generate queries\n",
    "with open('queries.csv', 'w') as file:\n",
    "    writer = csv.writer(file)\n",
    "    for i in range(len(item_ids)):\n",
    "        writer.writerow([f\"insert into item_avatar(item_id, avatar_link, avatar_thumbnail_link, last_modified, last_modified_by) select i.item_id, 'https://acsequip.acsathletics.com/Images/ItemAvatar/I' + cast(i.item_id as varchar) + '.jpg', 'https://acsequip.acsathletics.com/Images/ItemAvatar/I' + cast(i.item_id as varchar) + 'Thumb.jpg', dateadd(hh,o.time_diff,getDate()), e.employee_id from item i inner join org o on i.org_id = o.org_id inner join employee e on e.org_id = o.org_id left join ITEM_AVATAR ia on ia.item_id = i.item_id where i.item_id = {item_ids[i]} and ia.item_id is null and e.logon_id = 'acs' + cast(o.org_id as varchar)\"])\n"
   ]
  },
  {
   "cell_type": "code",
   "execution_count": null,
   "metadata": {},
   "outputs": [],
   "source": []
  }
 ],
 "metadata": {
  "kernelspec": {
   "display_name": "Python 3",
   "language": "python",
   "name": "python3"
  },
  "language_info": {
   "codemirror_mode": {
    "name": "ipython",
    "version": 3
   },
   "file_extension": ".py",
   "mimetype": "text/x-python",
   "name": "python",
   "nbconvert_exporter": "python",
   "pygments_lexer": "ipython3",
   "version": "3.8.2"
  }
 },
 "nbformat": 4,
 "nbformat_minor": 4
}
