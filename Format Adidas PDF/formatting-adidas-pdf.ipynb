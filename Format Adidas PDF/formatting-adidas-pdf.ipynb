{
 "cells": [
  {
   "cell_type": "markdown",
   "metadata": {},
   "source": [
    "## Formatting an Adidas PDF <br/>\n",
    "\n",
    "This is a walkthrough of the code behind formatting an Adidas order. If you're not interested in how it works, basically all you need to do is first make sure your pdf's are in the *put_pdfs_here* folder and then click on the *formatting-adidas-orders.py* file. A *formatted.csv* will appear once the code has finished running. Your local machine should also have python and the appropriate libraries/packages (listed below) installed."
   ]
  },
  {
   "cell_type": "markdown",
   "metadata": {},
   "source": [
    "**Libraries/Packages used:**\n",
    "- **pdfplumber**: opens pdfs and allows them to be parsed page by page\n",
    "- **re**: finds patterns in text to know where to find specific data (e.g. dates, model numbers, etc.)\n",
    "- **pandas**: used here for creating a data frame for exporting to a csv\n",
    "- **glob**: allows for iterating through files ending in .pdf\n",
    "<br/><br/>"
   ]
  },
  {
   "cell_type": "code",
   "execution_count": 1,
   "metadata": {},
   "outputs": [],
   "source": [
    "import pdfplumber\n",
    "import re\n",
    "import pandas as pd\n",
    "import glob\n",
    "\n",
    "from collections import namedtuple "
   ]
  },
  {
   "cell_type": "code",
   "execution_count": 2,
   "metadata": {},
   "outputs": [],
   "source": [
    "# Creating a named tuple to easily make headings and assign values to a pandas data frame\n",
    "Line = namedtuple('Line', 'sport_id order_date order_ref_number item_description item_category item_size qty_ordered item_size_chart item_unit item_pref_vendor item_manuf item_manuf_model item_price item_serial item_expendable item_universal')"
   ]
  },
  {
   "cell_type": "markdown",
   "metadata": {},
   "source": [
    "**Regular Expressions**<br/>\n",
    "The code below might look confusing at first but it is very useful to look for patterns in text. \n",
    "\n",
    "You can learn more about regular expressions here: https://www.w3schools.com/python/python_regex.asp"
   ]
  },
  {
   "cell_type": "code",
   "execution_count": 3,
   "metadata": {},
   "outputs": [],
   "source": [
    "manuf_model_re = re.compile(r'^(\\w+) (.*) \\d+ \\$(\\d+\\.?\\d+) \\$\\d+\\.?\\d+ \\D+')"
   ]
  },
  {
   "cell_type": "markdown",
   "metadata": {},
   "source": [
    "**Extracting infoformation from the PDF** <br/>\n",
    "This is where the actual extraction happens. We loop through each PDF file in the *put_pdfs_here* folder, each page in every file, and each line in every page. Each iteration checks for patterns that we previously defined and for other specific repetitions. We compile a list of all the lines that we need in the formatted file so that we can create a data frame out of it and export to a CSV."
   ]
  },
  {
   "cell_type": "code",
   "execution_count": 4,
   "metadata": {},
   "outputs": [],
   "source": [
    "lines = []\n",
    "\n",
    "for file in glob.iglob(\"put_pdfs_here/*pdf\"):\n",
    "    with pdfplumber.open(file) as pdf:\n",
    "        pages = pdf.pages\n",
    "        for page in pdf.pages:\n",
    "            text = page.extract_text()\n",
    "            text_lines = text.split(\"\\n\")\n",
    "            for i in range(len(text_lines)):\n",
    "                \n",
    "                # regular expressions - used for identifying patterns in text\n",
    "                model_num = manuf_model_re.search(text_lines[i])\n",
    "                \n",
    "                # Order Date\n",
    "                if text_lines[i].startswith('Order Date'):\n",
    "                    order_date = re.compile(r'(\\d{2}/\\d{2}/\\d{4})').search(text_lines[i]).group(1)\n",
    "                \n",
    "                # Order Reference Number\n",
    "                elif text_lines[i].startswith('Customer PO#:'):\n",
    "                    ref_num = re.compile(r'Customer PO#:(.*) Contact').search(text_lines[i]).group(1)\n",
    "                \n",
    "                # Manufacture Model\n",
    "                elif model_num:\n",
    "                    manuf_model = model_num.group(1)\n",
    "                    item_description = model_num.group(2)\n",
    "                    price = model_num.group(3)\n",
    "                    \n",
    "                # Sizes\n",
    "                elif text_lines[i].startswith('Size'):\n",
    "                    item_description += ' '+text_lines[i - 1]\n",
    "                    sizes = re.compile(r'Size (.*)').search(text_lines[i]).group(1).split()\n",
    "                    qtys = re.compile(r'Qty (.*)').search(text_lines[i + 1]).group(1).split()\n",
    "                    for i in range(len(qtys)):\n",
    "                        lines.append(Line(\"\", order_date, ref_num, item_description, \"\", sizes[i], qtys[i], \"\", \"Each\", \"\", \"Adidas\", manuf_model, price, \"N\", \"Y\", \"N\"))\n",
    "                    \n",
    "                              "
   ]
  },
  {
   "cell_type": "markdown",
   "metadata": {},
   "source": [
    "**Creating the data frame** <br/>\n",
    "Using the pandas library, we create a data frame out of the our lines array from above. Then we export the formatted file to a CSV and we're done! You should see a new *formatted.csv* pop up in the same directory as the python file."
   ]
  },
  {
   "cell_type": "code",
   "execution_count": 5,
   "metadata": {},
   "outputs": [],
   "source": [
    "df = pd.DataFrame(lines)"
   ]
  },
  {
   "cell_type": "code",
   "execution_count": 6,
   "metadata": {},
   "outputs": [],
   "source": [
    "df.to_csv('formatted.csv', index=False)"
   ]
  }
 ],
 "metadata": {
  "kernelspec": {
   "display_name": "Python 3",
   "language": "python",
   "name": "python3"
  },
  "language_info": {
   "codemirror_mode": {
    "name": "ipython",
    "version": 3
   },
   "file_extension": ".py",
   "mimetype": "text/x-python",
   "name": "python",
   "nbconvert_exporter": "python",
   "pygments_lexer": "ipython3",
   "version": "3.8.2"
  }
 },
 "nbformat": 4,
 "nbformat_minor": 4
}
