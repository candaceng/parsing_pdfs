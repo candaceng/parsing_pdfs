{
 "cells": [
  {
   "cell_type": "markdown",
   "metadata": {},
   "source": [
    "# Extracting Images from Adidas PDF <br/>\n",
    "**Libraries used:**\n",
    "- **pdfplumber**: opens pdfs and allows them to be parsed page by page\n",
    "- **re**: finds patterns in text to know where to find specific data (e.g. dates, model numbers, etc.)\n",
    "- **glob**: allows for iterating through files ending in .pdf\n",
    "- **csv**: used here for reading matching manuf_model to item_ids\n",
    "- **fitz**: extracting images\n",
    "- **os**: for getting current directory and creating a new folder containing images"
   ]
  },
  {
   "cell_type": "code",
   "execution_count": 4,
   "metadata": {},
   "outputs": [],
   "source": [
    "import pdfplumber\n",
    "import re\n",
    "import glob\n",
    "import csv\n",
    "import fitz\n",
    "import os"
   ]
  },
  {
   "cell_type": "code",
   "execution_count": 5,
   "metadata": {},
   "outputs": [],
   "source": [
    "manuf_model_re = re.compile(r'(\\w+)\\D+\\d+\\D+\\d+\\D+\\d+\\D+\\d+')"
   ]
  },
  {
   "cell_type": "code",
   "execution_count": 6,
   "metadata": {},
   "outputs": [],
   "source": [
    "def extract_model_nums():\n",
    "    \"\"\"\n",
    "    Returns: a list of all model numbers in an Adidas PDF\n",
    "    Assumptions: your PDF's are in the folder called \"put_pdfs_here\"\n",
    "    \n",
    "    \"\"\"\n",
    "    model_nums = []\n",
    "    check_model_num = False\n",
    "\n",
    "    for file in glob.iglob(\"put_pdfs_here/*pdf\"):\n",
    "        with pdfplumber.open(file) as pdf:\n",
    "            pages = pdf.pages\n",
    "            for page in pdf.pages:\n",
    "                text = page.extract_text()\n",
    "                for line in text.split(\"\\n\"):\n",
    "\n",
    "                    if line.startswith('Style') or line.startswith('Qty'):\n",
    "                        check_model_num = True\n",
    "\n",
    "                    elif check_model_num:\n",
    "                        model_num = manuf_model_re.search(line)\n",
    "                        if model_num:\n",
    "                            model_nums.append(model_num.group(1))\n",
    "                        check_model_num = False\n",
    "                        \n",
    "    return model_nums      "
   ]
  },
  {
   "cell_type": "code",
   "execution_count": 7,
   "metadata": {},
   "outputs": [],
   "source": [
    "def get_item_ids():\n",
    "    \"\"\"\n",
    "    Returns: a dictionary of all item_ids corresponding to the model numbers, and a list of item_ids\n",
    "    Assumptions: - you've pulled all items from an org and saved it as \"all_items.csv\" in the directory of this file\n",
    "                 - item_ids are in the first column and manuf_models in the second\n",
    "    \n",
    "    \"\"\"\n",
    "    item_ids = {}\n",
    "    item_id_l = []\n",
    "    model_nums = extract_model_nums()\n",
    "    for i in range(len(model_nums)):\n",
    "        item_ids[i] = []\n",
    "\n",
    "    with open('all_items.csv', 'r', encoding='utf-8-sig') as file:\n",
    "        reader = csv.reader(file)\n",
    "\n",
    "        for line in reader:\n",
    "            for model_num in model_nums:\n",
    "                if line[1] == model_num:\n",
    "                    item_ids[model_nums.index(model_num)].append(line[0])\n",
    "                    item_id_l.append(line[0])\n",
    "\n",
    "    return item_ids, item_id_l\n",
    "    "
   ]
  },
  {
   "cell_type": "code",
   "execution_count": 9,
   "metadata": {},
   "outputs": [
    {
     "name": "stdout",
     "output_type": "stream",
     "text": [
      "{0: ['470718'], 1: []} ['470718']\n"
     ]
    }
   ],
   "source": [
    "# The actual image extraction\n",
    "image_num = -1\n",
    "for file in glob.iglob(\"put_pdfs_here/*pdf\"):\n",
    "    doc = fitz.open(file)\n",
    "    item_ids, item_id_l = get_item_ids()\n",
    "    # new directory that will hold images\n",
    "    path = os.path.join(os.getcwd(), \"All Files\")\n",
    "    os.mkdir(path)\n",
    "    \n",
    "    for i in range(len(doc)):\n",
    "        for img in doc.getPageImageList(i):\n",
    "            \n",
    "            # this step is needed because the first image is the Adidas logo, which we don't want\n",
    "            if image_num == -1:\n",
    "                image_num += 1\n",
    "                continue\n",
    "                \n",
    "            xref = img[0]\n",
    "            pix = fitz.Pixmap(doc, xref)\n",
    "            \n",
    "            for j in range(len(item_ids[image_num])):\n",
    "                pix.writePNG(f\"{path}/I{item_ids[image_num][j]}.jpg\")\n",
    "                pix.writePNG(f\"{path}/I{item_ids[image_num][j]}Thumb.jpg\")\n",
    "            pix = None\n",
    "            \n",
    "            image_num += 1\n",
    "            \n",
    "# Outputting item_ids into a csv to generate queries\n",
    "with open('queries.csv', 'w') as file:\n",
    "    writer = csv.writer(file)\n",
    "    for i in range(len(item_id_l)):\n",
    "        writer.writerow([f\"insert into item_avatar(item_id, avatar_link, avatar_thumbnail_link, last_modified, last_modified_by) select i.item_id, 'https://acsequip.acsathletics.com/Images/ItemAvatar/I' + cast(i.item_id as varchar) + '.jpg', 'https://acsequip.acsathletics.com/Images/ItemAvatar/I' + cast(i.item_id as varchar) + 'Thumb.jpg', dateadd(hh,o.time_diff,getDate()), e.employee_id from item i inner join org o on i.org_id = o.org_id inner join employee e on e.org_id = o.org_id left join ITEM_AVATAR ia on ia.item_id = i.item_id where i.item_id = {item_id_l[i]} and ia.item_id is null and e.logon_id = 'acs' + cast(o.org_id as varchar)\"])\n"
   ]
  },
  {
   "cell_type": "code",
   "execution_count": null,
   "metadata": {},
   "outputs": [],
   "source": []
  }
 ],
 "metadata": {
  "kernelspec": {
   "display_name": "Python 3",
   "language": "python",
   "name": "python3"
  },
  "language_info": {
   "codemirror_mode": {
    "name": "ipython",
    "version": 3
   },
   "file_extension": ".py",
   "mimetype": "text/x-python",
   "name": "python",
   "nbconvert_exporter": "python",
   "pygments_lexer": "ipython3",
   "version": "3.8.2"
  }
 },
 "nbformat": 4,
 "nbformat_minor": 4
}
