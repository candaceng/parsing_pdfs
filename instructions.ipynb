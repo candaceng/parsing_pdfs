{
 "cells": [
  {
   "attachments": {},
   "cell_type": "markdown",
   "metadata": {},
   "source": [
    "## Formatting a BSN Sports PDF <br/>\n",
    "\n",
    "This is a walkthrough of the code behind formatting a BSN order. If you're boring and are not interested in how it works, basically all you need to do is first make sure your pdf's are in the *put_pdfs_here* folder and then click on the *formatting-bsn-orders.py* file. A *formatted.csv* will appear once the code has finished running. "
   ]
  },
  {
   "cell_type": "markdown",
   "metadata": {},
   "source": [
    "**Libraries used:**\n",
    "- **pdfplumber**: opens pdfs and allows them to be parsed page by page\n",
    "- **re**: finds patterns in text to know where to find specific data (e.g. dates, model numbers, etc.)\n",
    "- **pandas**: used here for creating a data frame for exporting to a csv\n",
    "- **glob**: allows for iterating through files ending in .pdf\n",
    "<br/><br/>\n",
    "**Note**: Make sure your pdfs are stored in the *put_pdfs_here* folder"
   ]
  },
  {
   "cell_type": "code",
   "execution_count": 1,
   "metadata": {},
   "outputs": [],
   "source": [
    "import pdfplumber\n",
    "import re\n",
    "import pandas as pd\n",
    "import glob\n",
    "\n",
    "from collections import namedtuple "
   ]
  },
  {
   "cell_type": "code",
   "execution_count": 2,
   "metadata": {},
   "outputs": [],
   "source": [
    "# Creating a named tuple to easily make headings and assign values to a pandas data frame\n",
    "Line = namedtuple('Line', 'sport_id order_date order_ref_number item_description item_category item_size qty_ordered chart item_unit item_pref_vendor item_manuf item_manuf_model item_price item_serial item_expendable item_universal')"
   ]
  },
  {
   "cell_type": "markdown",
   "metadata": {},
   "source": [
    "**Regular Expressions**<br/>\n",
    "The code below might look confusing at first but it is very useful to look for patterns in text. For example, manufacture models always start with \"Item # - \" and so we store that pattern in manuf_model_re for the extraction process later on.\n",
    "\n",
    "You can learn more about regular expressions here: https://www.w3schools.com/python/python_regex.asp"
   ]
  },
  {
   "cell_type": "code",
   "execution_count": 3,
   "metadata": {},
   "outputs": [],
   "source": [
    "manuf_model_re = re.compile(r'Item # - (.*)')\n",
    "quantities_re = re.compile(r'\\s*(\\d*) ([A-Z]{2})\\D*(\\d*\\.?\\d*)')"
   ]
  },
  {
   "cell_type": "markdown",
   "metadata": {},
   "source": [
    "**Extracting infoformation from the PDF** <br/>\n",
    "This is where the actual extraction happens. We loop through each PDF file in the *put_pdfs_here* folder, each page in every file, and each line in every page. Each iteration checks for patterns that we previously defined and for other specific repetitions. Note that not every item has sizes associated, so we can't just loop through every item. We compile a list of all the lines that we need in the formatted file so that we can create a data fram out of it and export to a CSV."
   ]
  },
  {
   "cell_type": "code",
   "execution_count": 4,
   "metadata": {},
   "outputs": [],
   "source": [
    "lines = []\n",
    "check_info = False\n",
    "check_sizes = False\n",
    "\n",
    "for file in glob.iglob(\"put_pdfs_here/*pdf\"):\n",
    "    with pdfplumber.open(file) as pdf:\n",
    "        pages = pdf.pages\n",
    "        for page in pdf.pages:\n",
    "            text = page.extract_text()\n",
    "            text_lines = text.split(\"\\n\")\n",
    "            for i in range(len(text_lines)):\n",
    "                \n",
    "                # regular expressions - used for identifying patterns in text\n",
    "                model_num = manuf_model_re.search(text_lines[i])\n",
    "                \n",
    "                # Order Date\n",
    "                if text_lines[i].startswith('Order Date'):\n",
    "                    order_date = re.compile(r'(\\d{2}/\\d{2}/\\d{4})').search(text_lines[i]).group(1)\n",
    "                \n",
    "                # Order Reference Number\n",
    "                elif text_lines[i].startswith('Cart Name'):\n",
    "                    ref_num = re.compile(r'Cart Name:(.*)').search(text_lines[i]).group(1)\n",
    "                \n",
    "                # Manufacture Model\n",
    "                elif model_num:\n",
    "                    item_description = text_lines[i - 2]\n",
    "                    manuf_model = model_num.group(1)\n",
    "                    # check text_lines[i + 2] to see if there are sizes for current item\n",
    "                    if bool(quantities_re.search(text_lines[i + 2])) or text_lines[i + 1].startswith('Subtotal'):\n",
    "                        info = quantities_re.search(text_lines[i - 1])\n",
    "                        qty = info.group(1)\n",
    "                        item_unit = \"Each\" if info.group(2) == \"EA\" else \"Pair\"\n",
    "                        price = info.group(3)\n",
    "                        lines.append(Line(\"\", order_date, ref_num, item_description, \"\", \"\", qty, \"\", item_unit, \"\", \"BSN\", manuf_model, price, \"N\", \"Y\", \"N\"))\n",
    "                    else:\n",
    "                        check_sizes = True\n",
    "                    \n",
    "                # Sizes\n",
    "                elif check_sizes:\n",
    "                    sizes = text_lines[i].split()\n",
    "                    info = quantities_re.search(text_lines[i - 2])\n",
    "                    qty = info.group(1)\n",
    "                    item_unit = \"Each\" if info.group(2) == \"EA\" else \"Pair\"\n",
    "                    price = info.group(3)\n",
    "                    qtys = re.findall(r'\\d+', text_lines[i + 1])\n",
    "                    for i in range(len(qtys)):\n",
    "                        lines.append(Line(\"\", order_date, ref_num, item_description, \"\", sizes[i], qtys[i], \"\", item_unit, \"\", \"BSN\", manuf_model, price, \"N\", \"Y\", \"N\"))\n",
    "                    check_sizes = False\n",
    "                    \n",
    "                              "
   ]
  },
  {
   "cell_type": "markdown",
   "metadata": {},
   "source": [
    "**Creating the data frame** <br/>\n",
    "Using the pandas library, we create a data frame out of the our lines array from above. Then we export the formatted file to a CSV and we're done! You should see a new *formatted.csv* pop up in the same directory as the python file."
   ]
  },
  {
   "cell_type": "code",
   "execution_count": 5,
   "metadata": {},
   "outputs": [],
   "source": [
    "df = pd.DataFrame(lines)"
   ]
  },
  {
   "cell_type": "code",
   "execution_count": 6,
   "metadata": {},
   "outputs": [],
   "source": [
    "df.to_csv('formatted.csv', index=False)"
   ]
  }
 ],
 "metadata": {
  "kernelspec": {
   "display_name": "Python 3",
   "language": "python",
   "name": "python3"
  },
  "language_info": {
   "codemirror_mode": {
    "name": "ipython",
    "version": 3
   },
   "file_extension": ".py",
   "mimetype": "text/x-python",
   "name": "python",
   "nbconvert_exporter": "python",
   "pygments_lexer": "ipython3",
   "version": "3.8.2"
  }
 },
 "nbformat": 4,
 "nbformat_minor": 4
}
